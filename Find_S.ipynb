{
 "cells": [
  {
   "cell_type": "code",
   "execution_count": 16,
   "id": "3b042672",
   "metadata": {},
   "outputs": [],
   "source": [
    "data={\n",
    "    \"sky\":['sunny','sunny','rainy','sunny'],\n",
    "    \"airTemp\":['warm','warm','cold','warm'],\n",
    "    \"humidity\":['normal','high','high','high'],\n",
    "    \"wind\":['strong','strong','strong','strong'],\n",
    "    \"water\":['warm','warm','warm','cold'],\n",
    "    \"forecast\":['same','same','change','change'],\n",
    "    \"enjoysport\":['yes','yes','no','yes']\n",
    "}\n"
   ]
  },
  {
   "cell_type": "code",
   "execution_count": null,
   "id": "53b07fef",
   "metadata": {},
   "outputs": [],
   "source": [
    "import pandas as pd\n",
    "import numpy as np"
   ]
  },
  {
   "cell_type": "code",
   "execution_count": 18,
   "id": "41b49742",
   "metadata": {},
   "outputs": [
    {
     "name": "stdout",
     "output_type": "stream",
     "text": [
      "     sky airTemp humidity    wind water forecast enjoysport\n",
      "0  sunny    warm   normal  strong  warm     same        yes\n",
      "1  sunny    warm     high  strong  warm     same        yes\n",
      "2  rainy    cold     high  strong  warm   change         no\n",
      "3  sunny    warm     high  strong  cold   change        yes\n"
     ]
    }
   ],
   "source": [
    "dataset=pd.DataFrame(data)\n",
    "len(dataset)\n",
    "print(dataset)"
   ]
  },
  {
   "cell_type": "code",
   "execution_count": 4,
   "id": "ed36e09e",
   "metadata": {},
   "outputs": [],
   "source": [
    "res=list()"
   ]
  },
  {
   "cell_type": "code",
   "execution_count": 5,
   "id": "67a12e51",
   "metadata": {},
   "outputs": [],
   "source": [
    "\n",
    "def c(x,y):\n",
    "    \n",
    "    n=len(x)\n",
    "    lis=list()\n",
    "\n",
    "    for i in range(n):\n",
    "        \n",
    "        if x[i]==y[i]:\n",
    "            \n",
    "            res[i]=x[i]\n",
    "        else:\n",
    "            res[i]=\"?\"\n",
    "    \n",
    "        \n",
    "\n",
    "def d(d):\n",
    "    n=len(d)-1\n",
    "    for j in range(0,n):\n",
    "        c(list(dataset.iloc[j]),list(dataset.iloc[j+1]))\n",
    "        "
   ]
  },
  {
   "cell_type": "code",
   "execution_count": 7,
   "id": "6b7d744e",
   "metadata": {},
   "outputs": [
    {
     "name": "stdout",
     "output_type": "stream",
     "text": [
      "Hypothesis: ['Sunny', 'Warm', '?', 'Strong', 'Warm', 'Same', 'Yes']\n"
     ]
    }
   ],
   "source": [
    "# Find-S algorithm implementation\n",
    "def find_s_algorithm(training_data):\n",
    "    hypothesis = None\n",
    "    \n",
    "    for instance in training_data:\n",
    "        if hypothesis is None:\n",
    "            hypothesis = instance.copy()  # Initialize the hypothesis with the first positive instance\n",
    "        else:\n",
    "            for i in range(len(hypothesis)):\n",
    "                if hypothesis[i] != instance[i]:\n",
    "                    hypothesis[i] = '?'  # Replace inconsistent attribute values with '?'\n",
    "    \n",
    "    return hypothesis\n",
    "\n",
    "# Example positive training data\n",
    "training_data = [\n",
    "     ['Sunny', 'Warm', 'Normal', 'Strong', 'Warm', 'Same', 'Yes'],\n",
    "    ['Sunny', 'Warm', 'High', 'Strong', 'Warm', 'Same', 'Yes']\n",
    "]\n",
    "\n",
    "# Find-S algorithm to learn a hypothesis from training data\n",
    "hypothesis = find_s_algorithm(training_data)\n",
    "print(\"Hypothesis:\", hypothesis)\n"
   ]
  },
  {
   "cell_type": "code",
   "execution_count": 8,
   "id": "abaa0461",
   "metadata": {},
   "outputs": [
    {
     "name": "stdout",
     "output_type": "stream",
     "text": [
      "[['sunny' 'warm' 'normal' 'strong' 'warm' 'same']\n",
      " ['sunny' 'warm' 'high' 'strong' 'warm' 'same']\n",
      " ['rainy' 'cold' 'high' 'strong' 'warm' 'change']\n",
      " ['sunny' 'warm' 'high' 'strong' 'cold' 'change']]\n"
     ]
    }
   ],
   "source": [
    "c=np.array(dataset)[:,:-1]\n",
    "print(c)"
   ]
  },
  {
   "cell_type": "code",
   "execution_count": 9,
   "id": "e29eac8c",
   "metadata": {},
   "outputs": [
    {
     "name": "stdout",
     "output_type": "stream",
     "text": [
      "['yes' 'yes' 'no' 'yes']\n"
     ]
    }
   ],
   "source": [
    "t=np.array(dataset)[:,-1]\n",
    "print(t)"
   ]
  },
  {
   "cell_type": "code",
   "execution_count": 10,
   "id": "3d61a854",
   "metadata": {},
   "outputs": [],
   "source": [
    "def find_s(c,t):\n",
    "    for i, val in enumerate(t):\n",
    "        if val=='yes':\n",
    "            specific_hypo = c[i].copy()\n",
    "            break\n",
    "        \n",
    "    for i, val in enumerate(c):\n",
    "         if t[i]=='yes':\n",
    "                for x in range(len(specific_hypo)):\n",
    "                    if val[x]!= specific_hypo[x]:\n",
    "                        specific_hypo[x]='?'\n",
    "                    else:\n",
    "                        pass\n",
    "    return specific_hypo"
   ]
  },
  {
   "cell_type": "code",
   "execution_count": 11,
   "id": "336050cf",
   "metadata": {},
   "outputs": [
    {
     "name": "stdout",
     "output_type": "stream",
     "text": [
      "The specific hypothesis is: ['sunny' 'warm' '?' 'strong' '?' '?']\n"
     ]
    }
   ],
   "source": [
    "print('The specific hypothesis is:',find_s(c,t))"
   ]
  },
  {
   "cell_type": "code",
   "execution_count": 12,
   "id": "b763e123",
   "metadata": {},
   "outputs": [],
   "source": [
    "def find_s(c,t):\n",
    "    for i, val in enumerate(t):\n",
    "        if val == 'yes':\n",
    "            specific_hypothesis= c[i].copy()\n",
    "            break\n",
    "      \n",
    "    for i, val in enumerate(c):\n",
    "        if t[i]=='yes':\n",
    "            for y in range(len(specific_hypothesis)):\n",
    "                if val[y]!=specific_hypothesis[y]:\n",
    "                    specific_hypothesis[y]='?'\n",
    "                else:\n",
    "                    pass\n",
    "                \n",
    "    return specific_hypothesis"
   ]
  },
  {
   "cell_type": "code",
   "execution_count": 13,
   "id": "74202e43",
   "metadata": {},
   "outputs": [],
   "source": [
    "def find_s(c,t):\n",
    "    for i in range(len(t)):\n",
    "        if t[i]=='yes':\n",
    "            specific_hypo = c[i].copy()\n",
    "            break\n",
    "    for i in range(len(c)):\n",
    "        if t[i]=='yes':\n",
    "            for x in range(len(specific_hypo)):\n",
    "                if c[i][x]!=specific_hypo[x]:\n",
    "                        specific_hypo[x]='?'\n",
    "                else:\n",
    "                    pass\n",
    "                    \n",
    "    return specific_hypo"
   ]
  },
  {
   "cell_type": "code",
   "execution_count": 14,
   "id": "75adb782",
   "metadata": {},
   "outputs": [
    {
     "name": "stdout",
     "output_type": "stream",
     "text": [
      "The specific hypothesis is: ['sunny' 'warm' '?' 'strong' '?' '?']\n"
     ]
    }
   ],
   "source": [
    "print(\"The specific hypothesis is:\",find_s(c,t))"
   ]
  },
  {
   "cell_type": "code",
   "execution_count": 15,
   "id": "c8d8f527",
   "metadata": {},
   "outputs": [],
   "source": [
    "def find_s(c, t):\n",
    "    specific_hypo = None  # Initialize the specific hypothesis\n",
    "\n",
    "    for i in range(len(t)):\n",
    "        if t[i] == 'yes':\n",
    "            specific_hypo = c[i].copy()  # Copy the hypothesis\n",
    "            break  # Exit the loop after finding the first positive example\n",
    "\n",
    "    if specific_hypo is not None:\n",
    "        for i in range(len(c)):\n",
    "            if t[i] == 'yes':\n",
    "                for x in range(len(specific_hypo)):\n",
    "                    if c[i][x] != specific_hypo[x]:\n",
    "                        specific_hypo[x] = '?'\n",
    "    \n",
    "    return specific_hypo  # Return the specific hypothesis after processing\n"
   ]
  }
 ],
 "metadata": {
  "kernelspec": {
   "display_name": "Python 3",
   "language": "python",
   "name": "python3"
  },
  "language_info": {
   "codemirror_mode": {
    "name": "ipython",
    "version": 3
   },
   "file_extension": ".py",
   "mimetype": "text/x-python",
   "name": "python",
   "nbconvert_exporter": "python",
   "pygments_lexer": "ipython3",
   "version": "3.8.8"
  }
 },
 "nbformat": 4,
 "nbformat_minor": 5
}
